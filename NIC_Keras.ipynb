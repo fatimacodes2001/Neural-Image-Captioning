{
  "nbformat": 4,
  "nbformat_minor": 0,
  "metadata": {
    "colab": {
      "name": "NIC Keras.ipynb",
      "provenance": [],
      "collapsed_sections": []
    },
    "kernelspec": {
      "name": "python3",
      "display_name": "Python 3"
    },
    "accelerator": "GPU"
  },
  "cells": [
    {
      "cell_type": "markdown",
      "metadata": {
        "id": "41xG9_Gwc2aL",
        "colab_type": "text"
      },
      "source": [
        "#Mounting the drive\n"
      ]
    },
    {
      "cell_type": "code",
      "metadata": {
        "id": "Ck0X10a3GR6l",
        "colab_type": "code",
        "colab": {
          "base_uri": "https://localhost:8080/",
          "height": 34
        },
        "outputId": "07f0b1df-6dc0-4579-8cd6-5e7f877e6b25"
      },
      "source": [
        "from google.colab import drive\n",
        "drive.mount('/content/drive')\n"
      ],
      "execution_count": null,
      "outputs": [
        {
          "output_type": "stream",
          "text": [
            "Mounted at /content/drive\n"
          ],
          "name": "stdout"
        }
      ]
    },
    {
      "cell_type": "code",
      "metadata": {
        "id": "LFn3h-ySDy6m",
        "colab_type": "code",
        "colab": {
          "base_uri": "https://localhost:8080/",
          "height": 34
        },
        "outputId": "0c6e0fa0-4d95-4c4c-ef92-458797b69f23"
      },
      "source": [
        "cd drive/My\\ Drive/Flickr8k"
      ],
      "execution_count": null,
      "outputs": [
        {
          "output_type": "stream",
          "text": [
            "/content/drive/My Drive/Flickr8k\n"
          ],
          "name": "stdout"
        }
      ]
    },
    {
      "cell_type": "markdown",
      "metadata": {
        "id": "iEO_wp46IctO",
        "colab_type": "text"
      },
      "source": [
        "# Importing Libraries"
      ]
    },
    {
      "cell_type": "code",
      "metadata": {
        "id": "A3b2RXz2EJ5U",
        "colab_type": "code",
        "colab": {}
      },
      "source": [
        "\n",
        "import numpy as np\n",
        "from numpy import array\n",
        "import pandas as pd\n",
        "from nltk.translate.bleu_score import corpus_bleu\n",
        "\n",
        "import matplotlib.pyplot as plt\n",
        "from keras.layers.wrappers import Bidirectional\n",
        "\n",
        "%matplotlib inline\n",
        "import string\n",
        "import os\n",
        "from PIL import Image\n",
        "import glob\n",
        "from pickle import dump, load\n",
        "from time import time\n",
        "from keras.preprocessing import sequence\n",
        "from keras.models import Sequential\n",
        "from keras.preprocessing.image import load_img, img_to_array\n",
        "\n",
        "from keras.layers import LSTM, Embedding, TimeDistributed, Dense, RepeatVector,\\\n",
        "                         Activation, Flatten, Reshape, Concatenate, Dropout, BatchNormalization,LSTMCell\n",
        "from keras.optimizers import Adam, RMSprop\n",
        "from keras.layers.wrappers import Bidirectional\n",
        "from keras.layers.merge import add\n",
        "from keras.applications.inception_v3 import InceptionV3\n",
        "from keras.preprocessing import image\n",
        "from keras.models import Model\n",
        "from keras import Input, layers\n",
        "from keras import optimizers\n",
        "from keras.applications.inception_v3 import preprocess_input\n",
        "from keras.preprocessing.text import Tokenizer\n",
        "from keras.preprocessing.sequence import pad_sequences\n",
        "from keras.utils import to_categorical"
      ],
      "execution_count": null,
      "outputs": []
    },
    {
      "cell_type": "markdown",
      "metadata": {
        "id": "NpXVZWm7IlkV",
        "colab_type": "text"
      },
      "source": [
        "# Helper functions for pre processing data"
      ]
    },
    {
      "cell_type": "code",
      "metadata": {
        "id": "IaHNpu66EO9P",
        "colab_type": "code",
        "colab": {}
      },
      "source": [
        "def loadFile(filename):\n",
        "    # Opening the file as read only\n",
        "    file = open(filename, 'r')\n",
        "    data = file.read()\n",
        "    file.close()\n",
        "    return data\n",
        "def loadImgs(filename):\n",
        "  text = loadFile(filename)\n",
        "  imgs = list()\n",
        "\n",
        "  for sentence in text.split(\"\\n\"):\n",
        "    words = sentence.split(\".\")\n",
        "    if len(sentence)<1:\n",
        "      continue\n",
        "    img_id = words[0]\n",
        "    imgs.append(img_id)\n",
        "  return imgs\n",
        "\n",
        "def loadDict(imgs,fn):\n",
        "  mappings = dict()\n",
        "  text = loadFile(fn)\n",
        "  sentences = text.split(\"\\n\")\n",
        "  for img in imgs:\n",
        "    mappings[img] = list()\n",
        "  for sentence in sentences:\n",
        "    words = sentence.split()\n",
        "    if(len(sentence))<1:\n",
        "      continue\n",
        "    img_id , caption = words[0],words[1:]\n",
        "    caption = \"<startseq> \" + \" \".join(caption)+\" <endseq>\"\n",
        "    if img_id in imgs:\n",
        "      mappings[img_id].append(caption)\n",
        "  return mappings\n",
        "\n",
        "def getVocabulary(mapped_captions):\n",
        "    vocab = list()\n",
        "    for key in mapped_captions.keys():\n",
        "        for sentence in mapped_captions[key]:\n",
        "          words = sentence.split()\n",
        "          for word in words:\n",
        "              if word not in vocab:\n",
        "                  vocab.append(word)\n",
        "\n",
        "    return vocab\n",
        "\n",
        "\n",
        "def cleaningData(desc):\n",
        "    table = str.maketrans('','',string.punctuation)\n",
        "    \n",
        "    for img_id,caption in desc.items():\n",
        "\n",
        "        for num,img_caption in enumerate(caption):\n",
        "            \n",
        "            img_caption.replace(\"-\",\" \")\n",
        "\n",
        "            cap_l = img_caption.split()\n",
        "            #converts to lowercase\n",
        "            cap_l = [each.lower() for each in cap_l]\n",
        "            #remove punctuation from each token\n",
        "            cap_l = [each.translate(table) for each in cap_l]\n",
        "            #remove hanging 's and a \n",
        "            cap_l = [each for each in cap_l if(len(each)>1)]\n",
        "            #remove tokens with numbers in them\n",
        "            cap_l = [each for each in cap_l if(each.isalpha())]\n",
        "\n",
        "            #convert back to string\n",
        "            img_caption = ' '.join(cap_l)\n",
        "            desc[img_id][num]= img_caption\n",
        "    return desc\n",
        "\n",
        "def generateDescriptions(data): \n",
        "    mapped_captions = dict()\n",
        "    text = data\n",
        "    lines = text.split('\\n')\n",
        "\n",
        "    for line in lines:\n",
        "        words = line.split()\n",
        "        if len(line)<2:\n",
        "            continue \n",
        "       \n",
        "        image, caption = words[0], words[1:]\n",
        "        caption = ' '.join(caption)\n",
        "        image = image.split('.')\n",
        "        image = image[0]\n",
        "      \n",
        "        if image not in mapped_captions:\n",
        "            mapped_captions[image] = []\n",
        "\n",
        "        mapped_captions[image].append(caption)\n",
        "    return mapped_captions\n",
        "def saveText(mappings, filename):\n",
        "    sentences = []\n",
        "\n",
        "    for img_name, captions in mappings.items():\n",
        "\n",
        "        for each in captions:\n",
        "            sentences.append(img_name + '\\t' + each)\n",
        "\n",
        "    text = \"\\n\".join(sentences)\n",
        "    final_file = open(filename,\"w\")\n",
        "    final_file.write(text)\n",
        "    final_file.close()"
      ],
      "execution_count": null,
      "outputs": []
    },
    {
      "cell_type": "code",
      "metadata": {
        "id": "80Le33AHEymD",
        "colab_type": "code",
        "colab": {
          "base_uri": "https://localhost:8080/",
          "height": 34
        },
        "outputId": "a218a52d-981c-498d-e08a-4132f0e00d27"
      },
      "source": [
        "\n",
        "\n",
        "\n",
        "file = \"Flickr8k_text/Flickr8k.token.txt\"\n",
        "text = loadFile(file)\n",
        "print(text[:100])"
      ],
      "execution_count": null,
      "outputs": [
        {
          "output_type": "stream",
          "text": [
            "1000268201_693b08cb0e.jpg#0\tA child in a pink dress is climbing up a set of stairs in an entry way .\n"
          ],
          "name": "stdout"
        }
      ]
    },
    {
      "cell_type": "code",
      "metadata": {
        "id": "8_GTWQdqE-on",
        "colab_type": "code",
        "colab": {
          "base_uri": "https://localhost:8080/",
          "height": 34
        },
        "outputId": "795de0b2-a164-41ad-b27d-5c235a268874"
      },
      "source": [
        "captions = generateDescriptions(text)\n",
        "captions = cleaningData(captions)\n",
        "print(\"Total Captions: \"+str(len(captions)))"
      ],
      "execution_count": null,
      "outputs": [
        {
          "output_type": "stream",
          "text": [
            "Total Captions: 8092\n"
          ],
          "name": "stdout"
        }
      ]
    },
    {
      "cell_type": "code",
      "metadata": {
        "id": "JXHYkPTjG0UI",
        "colab_type": "code",
        "colab": {
          "base_uri": "https://localhost:8080/",
          "height": 34
        },
        "outputId": "915a24ba-ad30-46a1-ed90-3f490e2f02ec"
      },
      "source": [
        "\n",
        "vocab = getVocabulary(captions)\n",
        "print(len(vocab))"
      ],
      "execution_count": null,
      "outputs": [
        {
          "output_type": "stream",
          "text": [
            "8763\n"
          ],
          "name": "stdout"
        }
      ]
    },
    {
      "cell_type": "code",
      "metadata": {
        "id": "UtHs2u03HYNg",
        "colab_type": "code",
        "colab": {}
      },
      "source": [
        "saveText(captions, \"clean.txt\")"
      ],
      "execution_count": null,
      "outputs": []
    },
    {
      "cell_type": "code",
      "metadata": {
        "id": "PjC3CI9tF-pK",
        "colab_type": "code",
        "colab": {
          "base_uri": "https://localhost:8080/",
          "height": 34
        },
        "outputId": "947bd856-40d1-4b14-c47c-f99c39e9e0b7"
      },
      "source": [
        "filename = 'Flickr8k_text/Flickr_8k.trainImages.txt'\n",
        "x_train = loadImgs(filename)\n",
        "print(\"Train data: \"+str(len(x_train)))"
      ],
      "execution_count": null,
      "outputs": [
        {
          "output_type": "stream",
          "text": [
            "Train data: 6000\n"
          ],
          "name": "stdout"
        }
      ]
    },
    {
      "cell_type": "code",
      "metadata": {
        "id": "ezVEw_lyI6Sa",
        "colab_type": "code",
        "colab": {
          "base_uri": "https://localhost:8080/",
          "height": 34
        },
        "outputId": "27fa5df5-fa30-490b-97cb-dd881ce25640"
      },
      "source": [
        "filename = 'Flickr8k_text/Flickr_8k.devImages.txt'\n",
        "x_val = loadImgs(filename)\n",
        "print(\"Validation data: \"+str(len(x_val)))"
      ],
      "execution_count": null,
      "outputs": [
        {
          "output_type": "stream",
          "text": [
            "Validation data: 1000\n"
          ],
          "name": "stdout"
        }
      ]
    },
    {
      "cell_type": "code",
      "metadata": {
        "id": "F1uuDivOJC4u",
        "colab_type": "code",
        "colab": {
          "base_uri": "https://localhost:8080/",
          "height": 34
        },
        "outputId": "140055db-0d18-45e4-86bb-4a0a9a5ab4f4"
      },
      "source": [
        "filename = 'Flickr8k_text/Flickr_8k.testImages.txt'\n",
        "x_test = loadImgs(filename)\n",
        "print(\"Test data: \"+str(len(x_test)))"
      ],
      "execution_count": null,
      "outputs": [
        {
          "output_type": "stream",
          "text": [
            "Test data: 1000\n"
          ],
          "name": "stdout"
        }
      ]
    },
    {
      "cell_type": "code",
      "metadata": {
        "id": "AS9Hk0b3JUEB",
        "colab_type": "code",
        "colab": {}
      },
      "source": [
        "\n",
        "train=[]\n",
        "val = []\n",
        "test = []\n",
        "\n",
        "for each in x_train:\n",
        "  each = each+'.jpg'\n",
        "  train.append(each)\n",
        "\n",
        "for each in x_val:\n",
        "  each = each+'.jpg'\n",
        "  val.append(each)\n",
        "\n",
        "for each in x_test:\n",
        "  each = each+'.jpg'\n",
        "  test.append(each)"
      ],
      "execution_count": null,
      "outputs": []
    },
    {
      "cell_type": "code",
      "metadata": {
        "id": "la9hZEuuOheb",
        "colab_type": "code",
        "colab": {
          "base_uri": "https://localhost:8080/",
          "height": 34
        },
        "outputId": "ec1a47a4-5728-4423-bfe6-a1f5816899d3"
      },
      "source": [
        "print(val[0])"
      ],
      "execution_count": null,
      "outputs": [
        {
          "output_type": "stream",
          "text": [
            "2090545563_a4e66ec76b.jpg\n"
          ],
          "name": "stdout"
        }
      ]
    },
    {
      "cell_type": "markdown",
      "metadata": {
        "id": "hry8v5a0Itwk",
        "colab_type": "text"
      },
      "source": [
        "# Extracting features of the images using pre-trained Inception V3 model."
      ]
    },
    {
      "cell_type": "code",
      "metadata": {
        "id": "Meyq6ty4MCJb",
        "colab_type": "code",
        "colab": {}
      },
      "source": [
        "def extractFeatures(images):\n",
        "\n",
        "  model = InceptionV3(weights='imagenet')  \n",
        "  model = Model(inputs=model.inputs, outputs=model.layers[-2].output)\n",
        "  photo_features = dict()\n",
        "  \n",
        "  for image in images:\n",
        "            imagepath = \"Flicker8k_Dataset/\"+image\n",
        "            photo = load_img(imagepath, target_size=(299, 299))\n",
        "            img = img_to_array(photo)\n",
        "            img = img.reshape((1, img.shape[0], img.shape[1], img.shape[2]))\n",
        "            img = preprocess_input(img)\n",
        "            feature = model.predict(img, verbose=0)\n",
        "            feature = np.reshape(feature, feature.shape[1])\n",
        "            photo_features[image] = feature\n",
        "        \n",
        "  return photo_features"
      ],
      "execution_count": null,
      "outputs": []
    },
    {
      "cell_type": "code",
      "metadata": {
        "id": "QZVytpAYbp04",
        "colab_type": "code",
        "colab": {}
      },
      "source": [
        "encoding_train = {}\n",
        "encoding_train = extractFeatures(train)\n",
        "with open(\"encoded_train_imagesh.pkl\", \"wb\") as encoded_pickle:\n",
        "    dump(encoding_train, encoded_pickle)"
      ],
      "execution_count": null,
      "outputs": []
    },
    {
      "cell_type": "code",
      "metadata": {
        "id": "ZVPB2dQ6OR1F",
        "colab_type": "code",
        "colab": {}
      },
      "source": [
        "encoding_val = {}\n",
        "encoding_val = extractFeatures(val)\n",
        "with open(\"encoded_val_imagesh.pkl\", \"wb\") as encoded_pickle:\n",
        "    dump(encoding_val, encoded_pickle)"
      ],
      "execution_count": null,
      "outputs": []
    },
    {
      "cell_type": "code",
      "metadata": {
        "id": "SCY742GaRAW2",
        "colab_type": "code",
        "colab": {}
      },
      "source": [
        "encoding_test = {}\n",
        "encoding_test = extractFeatures(test)\n",
        "with open(\"encoded_test_imagesh.pkl\", \"wb\") as encoded_pickle:\n",
        "    dump(encoding_test, encoded_pickle)"
      ],
      "execution_count": null,
      "outputs": []
    },
    {
      "cell_type": "code",
      "metadata": {
        "id": "8lvXL6bKSpPT",
        "colab_type": "code",
        "colab": {
          "base_uri": "https://localhost:8080/",
          "height": 34
        },
        "outputId": "96c61d05-f1da-4883-f7f5-de466f57a159"
      },
      "source": [
        "train_features = load(open(\"encoded_train_imagesh.pkl\", \"rb\"))\n",
        "print('Photos: train=%d' % len(train_features))"
      ],
      "execution_count": null,
      "outputs": [
        {
          "output_type": "stream",
          "text": [
            "Photos: train=6000\n"
          ],
          "name": "stdout"
        }
      ]
    },
    {
      "cell_type": "code",
      "metadata": {
        "id": "Y4-wQ6BwSwHQ",
        "colab_type": "code",
        "colab": {
          "base_uri": "https://localhost:8080/",
          "height": 50
        },
        "outputId": "6036e9e3-1f5e-4296-ad63-7e0b6dd97c0d"
      },
      "source": [
        "val_features = load(open(\"encoded_val_imagesh.pkl\", \"rb\"))\n",
        "print('Photos: val=%d' % len(val_features))\n",
        "print(val_features[\"1579798212_d30844b4c5.jpg\"].shape)"
      ],
      "execution_count": null,
      "outputs": [
        {
          "output_type": "stream",
          "text": [
            "Photos: val=1000\n",
            "(2048,)\n"
          ],
          "name": "stdout"
        }
      ]
    },
    {
      "cell_type": "code",
      "metadata": {
        "id": "AG6_1o4GS3bJ",
        "colab_type": "code",
        "colab": {
          "base_uri": "https://localhost:8080/",
          "height": 50
        },
        "outputId": "1428fc4e-1ec5-459d-ba4a-c27013850e2e"
      },
      "source": [
        "test_features = load(open(\"encoded_test_imagesh.pkl\", \"rb\"))\n",
        "print('Photos: val=%d' % len(test_features))\n",
        "print(test_features['241347760_d44c8d3a01.jpg'].shape)"
      ],
      "execution_count": null,
      "outputs": [
        {
          "output_type": "stream",
          "text": [
            "Photos: val=1000\n",
            "(2048,)\n"
          ],
          "name": "stdout"
        }
      ]
    },
    {
      "cell_type": "code",
      "metadata": {
        "id": "Y40Wu7pgTF0x",
        "colab_type": "code",
        "colab": {}
      },
      "source": [
        "train_data = loadDict(x_train,'clean.txt')\n",
        "val_data = loadDict(x_val,'clean.txt')"
      ],
      "execution_count": null,
      "outputs": []
    },
    {
      "cell_type": "code",
      "metadata": {
        "id": "jAg6BfwEUdbb",
        "colab_type": "code",
        "colab": {
          "base_uri": "https://localhost:8080/",
          "height": 34
        },
        "outputId": "88886505-401f-403b-9a6d-2cf0ee939630"
      },
      "source": [
        "train_caption = []\n",
        "for key, captions in train_data.items():\n",
        "    for caption in captions:\n",
        "        train_caption.append(caption)\n",
        "print(len(train_caption))"
      ],
      "execution_count": null,
      "outputs": [
        {
          "output_type": "stream",
          "text": [
            "30000\n"
          ],
          "name": "stdout"
        }
      ]
    },
    {
      "cell_type": "code",
      "metadata": {
        "id": "e6dc_ks0U2M9",
        "colab_type": "code",
        "colab": {
          "base_uri": "https://localhost:8080/",
          "height": 54
        },
        "outputId": "d46365f9-1d31-47b7-e6e0-7d48b4e45e3e"
      },
      "source": [
        "print(train_caption[:5])"
      ],
      "execution_count": null,
      "outputs": [
        {
          "output_type": "stream",
          "text": [
            "['<startseq> black dog is running after white dog in the snow <endseq>', '<startseq> black dog chasing brown dog through snow <endseq>', '<startseq> two dogs chase each other across the snowy ground <endseq>', '<startseq> two dogs play together in the snow <endseq>', '<startseq> two dogs running through low lying body of water <endseq>']\n"
          ],
          "name": "stdout"
        }
      ]
    },
    {
      "cell_type": "markdown",
      "metadata": {
        "id": "4UAHzgCYI6Hn",
        "colab_type": "text"
      },
      "source": [
        "# Reducing the vocabulary size"
      ]
    },
    {
      "cell_type": "code",
      "metadata": {
        "id": "c8EDDkcvU581",
        "colab_type": "code",
        "colab": {
          "base_uri": "https://localhost:8080/",
          "height": 34
        },
        "outputId": "d6d84f6b-fc5a-42fc-be81-bd9c392a1617"
      },
      "source": [
        "threshold = 3\n",
        "word_counts = {}\n",
        "nsents = 0\n",
        "for sent in train_caption:\n",
        "    nsents += 1\n",
        "    for w in sent.split(' '):\n",
        "        word_counts[w] = word_counts.get(w, 0) + 1\n",
        "\n",
        "vocabulary = [word for word in word_counts if word_counts[word] >= threshold]\n",
        "print('preprocessed words %d -> %d' % (len(word_counts), len(vocabulary)))\n",
        "vocab_len = len(vocabulary)+1"
      ],
      "execution_count": null,
      "outputs": [
        {
          "output_type": "stream",
          "text": [
            "preprocessed words 7578 -> 3471\n"
          ],
          "name": "stdout"
        }
      ]
    },
    {
      "cell_type": "code",
      "metadata": {
        "id": "_6uwqy97Wzad",
        "colab_type": "code",
        "colab": {}
      },
      "source": [
        "idx2word = dict()\n",
        "word2idx = dict()\n",
        "\n",
        "idx = 1\n",
        "for word in vocabulary:\n",
        "    word2idx[word] = idx\n",
        "    idx2word[idx] = word\n",
        "    idx += 1"
      ],
      "execution_count": null,
      "outputs": []
    },
    {
      "cell_type": "code",
      "metadata": {
        "id": "4z-WY_f5XCud",
        "colab_type": "code",
        "colab": {
          "base_uri": "https://localhost:8080/",
          "height": 34
        },
        "outputId": "c3216edd-0328-4cc0-e374-2ec50084c80c"
      },
      "source": [
        "print(idx2word[1])\n"
      ],
      "execution_count": null,
      "outputs": [
        {
          "output_type": "stream",
          "text": [
            "<startseq>\n"
          ],
          "name": "stdout"
        }
      ]
    },
    {
      "cell_type": "code",
      "metadata": {
        "id": "2UZN03gjXkbX",
        "colab_type": "code",
        "colab": {
          "base_uri": "https://localhost:8080/",
          "height": 34
        },
        "outputId": "48b9e030-7a6b-4f1f-cea3-63e602683bd6"
      },
      "source": [
        "print(word2idx['ground'])"
      ],
      "execution_count": null,
      "outputs": [
        {
          "output_type": "stream",
          "text": [
            "22\n"
          ],
          "name": "stdout"
        }
      ]
    },
    {
      "cell_type": "code",
      "metadata": {
        "id": "OR839QO3XoLt",
        "colab_type": "code",
        "colab": {
          "base_uri": "https://localhost:8080/",
          "height": 34
        },
        "outputId": "9045d6c6-e151-4f30-e237-1abe5db96f19"
      },
      "source": [
        "def getMax(mappings):\n",
        "    mappings_l = list()\n",
        "    for key in mappings.keys():\n",
        "      [mappings_l.append(each) for each in mappings[key]]\n",
        "    max = len(mappings_l[0].split())\n",
        "    for caption in mappings_l:\n",
        "      if(len(caption.split())>max):\n",
        "        max = len(caption.split())\n",
        "    return max\n",
        "max = getMax(train_data)\n",
        "print('Maximum caption length: %d' % max)"
      ],
      "execution_count": null,
      "outputs": [
        {
          "output_type": "stream",
          "text": [
            "Maximum caption length: 34\n"
          ],
          "name": "stdout"
        }
      ]
    },
    {
      "cell_type": "markdown",
      "metadata": {
        "id": "gCoLQwmkJBDd",
        "colab_type": "text"
      },
      "source": [
        "# Using data generator due to limitations of RAM"
      ]
    },
    {
      "cell_type": "code",
      "metadata": {
        "id": "bzV_TtNAYBgu",
        "colab_type": "code",
        "colab": {}
      },
      "source": [
        "def data_generator(mappings, features, word2idx, max_length, batch_size):\n",
        "    X1, X2, y = list(), list(), list()\n",
        "    count=0\n",
        "    # loop for ever over images\n",
        "    while True:\n",
        "        for img, capts in mappings.items():\n",
        "            count+=1\n",
        "            # retrieve the photo feature\n",
        "            feature = features[img+'.jpg']\n",
        "            for caption in capts:\n",
        "                # encode the sequence\n",
        "                seq = [word2idx[word] for word in caption.split(' ') if word in word2idx]\n",
        "                # split one sequence into multiple X, y pairs\n",
        "                for n in range(1, len(seq)):\n",
        "                    # split into input and output pair\n",
        "                    partial,cap = seq[:n], seq[n]\n",
        "                    # pad input sequence\n",
        "                    #print(partial)\n",
        "                    partial = pad_sequences([partial], maxlen=max_length,padding='post')[0]\n",
        "                    # encode output sequence\n",
        "                    cap = to_categorical([cap], num_classes=vocab_len)[0]\n",
        "                    # store\n",
        "                    X1.append(feature)\n",
        "                    X2.append(partial)\n",
        "                    y.append(cap)\n",
        "            # yield the batch data\n",
        "            if count==batch_size:\n",
        "                yield [array(X1), array(X2),np.zeros([array(X2).shape[0],256]),np.zeros([array(X2).shape[0],256])], array(y)\n",
        "                X1, X2, y = list(), list(), list()\n",
        "                count=0"
      ],
      "execution_count": null,
      "outputs": []
    },
    {
      "cell_type": "markdown",
      "metadata": {
        "id": "V0pgQVP1JLQ0",
        "colab_type": "text"
      },
      "source": [
        "#Defining model\n",
        "Extracted image features are fed into the LSTM at the first time step.\n",
        "The respective caption is fed word by word afterwards."
      ]
    },
    {
      "cell_type": "code",
      "metadata": {
        "id": "LBnZ8ar_pyx-",
        "colab_type": "code",
        "colab": {
          "base_uri": "https://localhost:8080/",
          "height": 1000
        },
        "outputId": "0c5d04f0-425e-4294-bb74-f1fc570a73d4"
      },
      "source": [
        "embedding_size = 128\n",
        "image_model = Sequential()\n",
        "image_model.add(Input(shape=(2048,)))\n",
        "image_model.add(BatchNormalization(axis=-1))\n",
        "image_model.add(Dropout(0.5))\n",
        "image_model.add(Dense(embedding_size, activation='relu'))\n",
        "image_model.add(RepeatVector(1))\n",
        "image_model.summary()\n",
        "\n",
        "language_model = Sequential()\n",
        "language_model.add(Input(shape=(max,)))\n",
        "language_model.add(Embedding(input_dim=vocab_len, output_dim=embedding_size,mask_zero=True, input_length=max))\n",
        "language_model.add(Dropout(0.5))\n",
        "language_model.summary()\n",
        "inp = image_model.output\n",
        "\n",
        "a0 = Input(shape=(256,))\n",
        "c0 = Input(shape=(256,))\n",
        "\n",
        "b1 = BatchNormalization()(inp)\n",
        "b2 = BatchNormalization()(language_model.output)\n",
        "LSTMlayer= LSTM(256,return_sequences=False,return_state=True,dropout=0.5,recurrent_dropout=0.5)\n",
        "\n",
        "_ , a ,c = LSTMlayer(b1,initial_state=[a0,c0])\n",
        "\n",
        "A, _ ,_ = LSTMlayer(b2,initial_state = [a,c]) \n",
        "sequence_output = Dense(units=vocab_len,activation='softmax')(A)\n",
        "\n",
        "model = Model(inputs=[image_model.input, language_model.input,a0,c0],\n",
        "              outputs=sequence_output)\n",
        "model.summary()\n",
        "\n",
        "model.compile(optimizer='adam',\n",
        "              loss='categorical_crossentropy',\n",
        "              metrics=['accuracy'])\n",
        "\n"
      ],
      "execution_count": null,
      "outputs": [
        {
          "output_type": "stream",
          "text": [
            "Model: \"sequential_30\"\n",
            "_________________________________________________________________\n",
            "Layer (type)                 Output Shape              Param #   \n",
            "=================================================================\n",
            "batch_normalization_45 (Batc (None, 2048)              8192      \n",
            "_________________________________________________________________\n",
            "dropout_30 (Dropout)         (None, 2048)              0         \n",
            "_________________________________________________________________\n",
            "dense_21 (Dense)             (None, 128)               262272    \n",
            "_________________________________________________________________\n",
            "repeat_vector_15 (RepeatVect (None, 1, 128)            0         \n",
            "=================================================================\n",
            "Total params: 270,464\n",
            "Trainable params: 266,368\n",
            "Non-trainable params: 4,096\n",
            "_________________________________________________________________\n",
            "Model: \"sequential_31\"\n",
            "_________________________________________________________________\n",
            "Layer (type)                 Output Shape              Param #   \n",
            "=================================================================\n",
            "embedding_15 (Embedding)     (None, 34, 128)           444416    \n",
            "_________________________________________________________________\n",
            "dropout_31 (Dropout)         (None, 34, 128)           0         \n",
            "=================================================================\n",
            "Total params: 444,416\n",
            "Trainable params: 444,416\n",
            "Non-trainable params: 0\n",
            "_________________________________________________________________\n",
            "WARNING:tensorflow:Layer lstm_15 will not use cuDNN kernel since it doesn't meet the cuDNN kernel criteria. It will use generic GPU kernel as fallback when running on GPU\n",
            "Model: \"functional_13\"\n",
            "__________________________________________________________________________________________________\n",
            "Layer (type)                    Output Shape         Param #     Connected to                     \n",
            "==================================================================================================\n",
            "input_63 (InputLayer)           [(None, 2048)]       0                                            \n",
            "__________________________________________________________________________________________________\n",
            "batch_normalization_45 (BatchNo (None, 2048)         8192        input_63[0][0]                   \n",
            "__________________________________________________________________________________________________\n",
            "dropout_30 (Dropout)            (None, 2048)         0           batch_normalization_45[0][0]     \n",
            "__________________________________________________________________________________________________\n",
            "input_64 (InputLayer)           [(None, 34)]         0                                            \n",
            "__________________________________________________________________________________________________\n",
            "dense_21 (Dense)                (None, 128)          262272      dropout_30[0][0]                 \n",
            "__________________________________________________________________________________________________\n",
            "embedding_15 (Embedding)        (None, 34, 128)      444416      input_64[0][0]                   \n",
            "__________________________________________________________________________________________________\n",
            "repeat_vector_15 (RepeatVector) (None, 1, 128)       0           dense_21[0][0]                   \n",
            "__________________________________________________________________________________________________\n",
            "dropout_31 (Dropout)            (None, 34, 128)      0           embedding_15[0][0]               \n",
            "__________________________________________________________________________________________________\n",
            "batch_normalization_46 (BatchNo (None, 1, 128)       512         repeat_vector_15[0][0]           \n",
            "__________________________________________________________________________________________________\n",
            "input_65 (InputLayer)           [(None, 256)]        0                                            \n",
            "__________________________________________________________________________________________________\n",
            "input_66 (InputLayer)           [(None, 256)]        0                                            \n",
            "__________________________________________________________________________________________________\n",
            "lstm_15 (LSTM)                  [(None, 256), (None, 394240      batch_normalization_46[0][0]     \n",
            "                                                                 input_65[0][0]                   \n",
            "                                                                 input_66[0][0]                   \n",
            "                                                                 batch_normalization_47[0][0]     \n",
            "                                                                 lstm_15[0][1]                    \n",
            "                                                                 lstm_15[0][2]                    \n",
            "__________________________________________________________________________________________________\n",
            "batch_normalization_47 (BatchNo (None, 34, 128)      512         dropout_31[0][0]                 \n",
            "__________________________________________________________________________________________________\n",
            "dense_22 (Dense)                (None, 3472)         892304      lstm_15[1][0]                    \n",
            "==================================================================================================\n",
            "Total params: 2,002,448\n",
            "Trainable params: 1,997,840\n",
            "Non-trainable params: 4,608\n",
            "__________________________________________________________________________________________________\n"
          ],
          "name": "stdout"
        }
      ]
    },
    {
      "cell_type": "code",
      "metadata": {
        "id": "42t_oYT41SDR",
        "colab_type": "code",
        "colab": {
          "base_uri": "https://localhost:8080/",
          "height": 84
        },
        "outputId": "de179057-2ac0-4a21-fd5c-91a83dcfb8ac"
      },
      "source": [
        "generator = data_generator(train_data, train_features, word2idx, max,1)\n",
        "inputs,outputs = next(generator)\n",
        "print(outputs.shape)\n",
        "print(inputs[0].shape)\n",
        "print(outputs[0].shape)\n",
        "print(inputs[1].shape)\n"
      ],
      "execution_count": null,
      "outputs": [
        {
          "output_type": "stream",
          "text": [
            "(47, 3472)\n",
            "(47, 2048)\n",
            "(3472,)\n",
            "(47, 34)\n"
          ],
          "name": "stdout"
        }
      ]
    },
    {
      "cell_type": "code",
      "metadata": {
        "id": "xcH7acR-_Vxu",
        "colab_type": "code",
        "colab": {
          "base_uri": "https://localhost:8080/",
          "height": 151
        },
        "outputId": "ed9883d2-37a8-4ae4-a43d-39d94f14bac0"
      },
      "source": [
        "model.optimizer.lr = 0.001\n",
        "\n",
        "epochs = 8\n",
        "batch_len = 25\n",
        "val_batch = 5\n",
        "steps = len(train_data)//batch_len\n",
        "val_steps = len(val_data)//val_batch\n",
        "for i in range(epochs):\n",
        "    \n",
        "    generator = data_generator(train_data, train_features, word2idx, max,batch_len )\n",
        "    val_gen = data_generator(val_data, val_features, word2idx, max,val_batch )\n",
        "\n",
        "    model.fit(generator, epochs=1, steps_per_epoch=steps,validation_data=val_gen,validation_steps=val_steps, verbose=1)"
      ],
      "execution_count": null,
      "outputs": [
        {
          "output_type": "stream",
          "text": [
            "240/240 [==============================] - 71s 295ms/step - loss: 5.2426 - accuracy: 0.1622 - val_loss: 5.0871 - val_accuracy: 0.1607\n",
            "240/240 [==============================] - 70s 292ms/step - loss: 4.2539 - accuracy: 0.2455 - val_loss: 4.0841 - val_accuracy: 0.2566\n",
            "240/240 [==============================] - 70s 292ms/step - loss: 3.9299 - accuracy: 0.2694 - val_loss: 3.7883 - val_accuracy: 0.2817\n",
            "240/240 [==============================] - 70s 293ms/step - loss: 3.7484 - accuracy: 0.2832 - val_loss: 3.6730 - val_accuracy: 0.2919\n",
            "240/240 [==============================] - 70s 292ms/step - loss: 3.6251 - accuracy: 0.2925 - val_loss: 3.5950 - val_accuracy: 0.2979\n",
            "240/240 [==============================] - 70s 293ms/step - loss: 3.5294 - accuracy: 0.2995 - val_loss: 3.5371 - val_accuracy: 0.3024\n",
            "240/240 [==============================] - 71s 294ms/step - loss: 3.4506 - accuracy: 0.3063 - val_loss: 3.4893 - val_accuracy: 0.3083\n",
            "240/240 [==============================] - 70s 292ms/step - loss: 3.3852 - accuracy: 0.3120 - val_loss: 3.4490 - val_accuracy: 0.3122\n"
          ],
          "name": "stdout"
        }
      ]
    },
    {
      "cell_type": "code",
      "metadata": {
        "id": "NHGGMsghJn92",
        "colab_type": "code",
        "colab": {
          "base_uri": "https://localhost:8080/",
          "height": 67
        },
        "outputId": "90990724-c463-4b9f-9762-a6fca8915f8e"
      },
      "source": [
        "for i in range(3):\n",
        "    \n",
        "    generator = data_generator(train_data, train_features, word2idx, max,batch_len )\n",
        "    val_gen = data_generator(val_data, val_features, word2idx, max,val_batch )\n",
        "\n",
        "    model.fit(generator, epochs=1, steps_per_epoch=steps,validation_data=val_gen,validation_steps=val_steps, verbose=1)"
      ],
      "execution_count": null,
      "outputs": [
        {
          "output_type": "stream",
          "text": [
            "240/240 [==============================] - 71s 295ms/step - loss: 3.3277 - accuracy: 0.3172 - val_loss: 3.4155 - val_accuracy: 0.3168\n",
            "240/240 [==============================] - 70s 293ms/step - loss: 3.2773 - accuracy: 0.3215 - val_loss: 3.3921 - val_accuracy: 0.3196\n",
            "240/240 [==============================] - 70s 292ms/step - loss: 3.2334 - accuracy: 0.3257 - val_loss: 3.3734 - val_accuracy: 0.3214\n"
          ],
          "name": "stdout"
        }
      ]
    },
    {
      "cell_type": "code",
      "metadata": {
        "id": "fK4WXJAkGnFs",
        "colab_type": "code",
        "colab": {
          "base_uri": "https://localhost:8080/",
          "height": 67
        },
        "outputId": "1a53facd-99bb-4753-863b-1af2e5fe2067"
      },
      "source": [
        "model.optimizer.lr = 0.0001\n",
        "epochs = 3\n",
        "batch_len = 30\n",
        "val_batch = 5\n",
        "steps = len(train_data)//batch_len\n",
        "val_steps = len(val_data)//val_batch\n",
        "\n",
        "for i in range(3):\n",
        "    \n",
        "    generator = data_generator(train_data, train_features, word2idx, max,batch_len )\n",
        "    val_gen = data_generator(val_data, val_features, word2idx, max,val_batch )\n",
        "\n",
        "    model.fit(generator, epochs=1, steps_per_epoch=steps,validation_data=val_gen,validation_steps=val_steps, verbose=1)"
      ],
      "execution_count": null,
      "outputs": [
        {
          "output_type": "stream",
          "text": [
            "200/200 [==============================] - 63s 316ms/step - loss: 3.1363 - accuracy: 0.3350 - val_loss: 3.3439 - val_accuracy: 0.3259\n",
            "200/200 [==============================] - 63s 316ms/step - loss: 3.1304 - accuracy: 0.3352 - val_loss: 3.3413 - val_accuracy: 0.3261\n",
            "200/200 [==============================] - 63s 315ms/step - loss: 3.1262 - accuracy: 0.3365 - val_loss: 3.3394 - val_accuracy: 0.3264\n"
          ],
          "name": "stdout"
        }
      ]
    },
    {
      "cell_type": "code",
      "metadata": {
        "id": "olZme64JJzSW",
        "colab_type": "code",
        "colab": {}
      },
      "source": [
        "model.save_weights('paper.h5')"
      ],
      "execution_count": null,
      "outputs": []
    },
    {
      "cell_type": "markdown",
      "metadata": {
        "id": "8XfjMFwqJgzl",
        "colab_type": "text"
      },
      "source": [
        "# Evaluating the model using bleu score."
      ]
    },
    {
      "cell_type": "code",
      "metadata": {
        "id": "jFneE6z0FAVM",
        "colab_type": "code",
        "colab": {
          "base_uri": "https://localhost:8080/",
          "height": 50
        },
        "outputId": "23fd2c04-4eb7-4369-cba5-0c53198da91f"
      },
      "source": [
        "def evaluate_model(descriptions, photos):\n",
        "\tactual, predicted = list(), list()\n",
        "\n",
        "\tfor key, desc_list in descriptions.items():\n",
        "#beamSearch(image,beam_index=5)\n",
        "\t\tyhat = greedySearch(photos[key+'.jpg'])\n",
        "\t\treferences = [d.split() for d in desc_list]\n",
        "\t\tactual.append(references)\n",
        "\t\tpredicted.append(yhat.split())\n",
        "  \n",
        "\tprint('BLEU-1: %f' % corpus_bleu(actual, predicted, weights=(1.0, 0, 0, 0)))\n",
        "\tprint('BLEU-2: %f' % corpus_bleu(actual, predicted, weights=(0.5, 0.5, 0, 0)))\n",
        " \n",
        "evaluate_model(val_data,val_features)"
      ],
      "execution_count": null,
      "outputs": [
        {
          "output_type": "stream",
          "text": [
            "BLEU-1: 0.454360\n",
            "BLEU-2: 0.264549\n"
          ],
          "name": "stdout"
        }
      ]
    },
    {
      "cell_type": "markdown",
      "metadata": {
        "id": "VOjblk-JJlq6",
        "colab_type": "text"
      },
      "source": [
        "# Defining helper functions for performing prediction by beamSearch and argmax search"
      ]
    },
    {
      "cell_type": "code",
      "metadata": {
        "id": "i5FPIQtVc0xa",
        "colab_type": "code",
        "colab": {}
      },
      "source": [
        " def beamSearch(image, beam_index):\n",
        "    start = [word2idx[\"<startseq>\"]]\n",
        "    \n",
        "    start_word = [[start, 0.0]]\n",
        "    \n",
        "    while len(start_word[0][0]) < max:\n",
        "        temp = []\n",
        "        for s in start_word:\n",
        "            par_caps = sequence.pad_sequences([s[0]], maxlen=max,padding='post')\n",
        "            image = image.reshape((1,2048))\n",
        "            preds = model.predict([image, par_caps,np.zeros([array(par_caps).shape[0],512]),np.zeros([array(par_caps).shape[0],512])])\n",
        "            word_preds = np.argsort(preds[0])[-beam_index:]\n",
        "            \n",
        "            for w in word_preds:\n",
        "                next_cap, prob = s[0][:], s[1]\n",
        "                next_cap.append(w)\n",
        "\n",
        "                prob += preds[0][w]\n",
        "                temp.append([next_cap, prob])\n",
        "                    \n",
        "        start_word = temp\n",
        "\n",
        "        start_word = sorted(start_word, reverse=False, key=lambda l: l[1])\n",
        "        start_word = start_word[-beam_index:]\n",
        "    \n",
        "    start_word = start_word[-1][0]\n",
        "    intermediate_caption = [idx2word[i] for i in start_word]\n",
        "\n",
        "    final_caption = []\n",
        "    for i in intermediate_caption:\n",
        "        if i != '<endseq>':\n",
        "            final_caption.append(i)\n",
        "        else:\n",
        "            break\n",
        "    \n",
        "    final_caption = ' '.join(final_caption[1:])\n",
        "    return final_caption"
      ],
      "execution_count": null,
      "outputs": []
    },
    {
      "cell_type": "code",
      "metadata": {
        "id": "bh1iDN-ZyXHD",
        "colab_type": "code",
        "colab": {}
      },
      "source": [
        "model.load_weights('paper.h5')"
      ],
      "execution_count": null,
      "outputs": []
    },
    {
      "cell_type": "code",
      "metadata": {
        "id": "ss9HOoFjhOns",
        "colab_type": "code",
        "colab": {}
      },
      "source": [
        "with open(\"encoded_test_imagesh.pkl\", \"rb\") as encoded_pickle:\n",
        "    encoding_test = load(encoded_pickle)\n",
        "def greedySearch(photo):\n",
        "    in_text = '<startseq>'\n",
        "    for i in range(max):\n",
        "        sequence = [word2idx[w] for w in in_text.split() if w in word2idx]\n",
        "        photo = photo.reshape((1,2048))\n",
        "        sequence = pad_sequences([sequence], maxlen=max,padding='post')\n",
        "        \n",
        "        yhat = model.predict([photo,sequence,np.zeros([array(sequence).shape[0],256]),np.zeros([array(sequence).shape[0],256])], verbose=0)\n",
        "        yhat = np.argmax(yhat)\n",
        "        word = idx2word[yhat]\n",
        "        in_text += ' ' + word\n",
        "\n",
        "        if word == '<endseq>':\n",
        "            break\n",
        "\n",
        "    final = in_text.split()\n",
        "    final = ' '.join(final[1:-1])\n",
        "    return final"
      ],
      "execution_count": null,
      "outputs": []
    },
    {
      "cell_type": "markdown",
      "metadata": {
        "id": "tfe-sEaQJ72f",
        "colab_type": "text"
      },
      "source": [
        "# Making predictions"
      ]
    },
    {
      "cell_type": "code",
      "metadata": {
        "id": "SchjasoZLUpZ",
        "colab_type": "code",
        "colab": {
          "base_uri": "https://localhost:8080/",
          "height": 319
        },
        "outputId": "096b90d4-b9cf-47f2-c0fa-facfa80cd838"
      },
      "source": [
        "z= 50\n",
        "pic = list(encoding_test.keys())[z]\n",
        "image = encoding_test[pic].reshape((1,2048))\n",
        "x=plt.imread('Flicker8k_Dataset/'+pic)\n",
        "plt.imshow(x)\n",
        "plt.show()\n",
        "\n",
        "print(\"Beam Index 5: \"+beamSearch(image,beam_index=5))\n",
        "print(\"Beam index 7: \"+beamSearch(image,beam_index=7))\n",
        "print(\"Greedy: \",greedySearch(image))"
      ],
      "execution_count": null,
      "outputs": [
        {
          "output_type": "display_data",
          "data": {
            "image/png": "[encoded data removed]",
            "text/plain": [
              "<Figure size 432x288 with 1 Axes>"
            ]
          },
          "metadata": {
            "tags": [],
            "needs_background": "light"
          }
        },
        {
          "output_type": "stream",
          "text": [
            "Beam Index 5: group of people stand in front of brick wall\n",
            "Beam index 7: group of people are standing in front of brick wall\n",
            "Greedy:  man and woman sit on bench\n"
          ],
          "name": "stdout"
        }
      ]
    },
    {
      "cell_type": "code",
      "metadata": {
        "id": "N_mQr7ycYQLk",
        "colab_type": "code",
        "colab": {}
      },
      "source": [
        "model.save_weights('paper2.h5')"
      ],
      "execution_count": null,
      "outputs": []
    },
    {
      "cell_type": "code",
      "metadata": {
        "id": "yXqNoUNVrZuz",
        "colab_type": "code",
        "colab": {}
      },
      "source": [
        ""
      ],
      "execution_count": null,
      "outputs": []
    }
  ]
}